{
  "nbformat": 4,
  "nbformat_minor": 0,
  "metadata": {
    "colab": {
      "provenance": [],
      "authorship_tag": "ABX9TyP2kxHUkAmWVi08azkK9NU0",
      "include_colab_link": true
    },
    "kernelspec": {
      "name": "python3",
      "display_name": "Python 3"
    },
    "language_info": {
      "name": "python"
    }
  },
  "cells": [
    {
      "cell_type": "markdown",
      "metadata": {
        "id": "view-in-github",
        "colab_type": "text"
      },
      "source": [
        "<a href=\"https://colab.research.google.com/github/maxmilhanaguiar/NF3-BIG-DATA-Maxmilhan/blob/main/NF3_BIG_DATA_Maxmilhan_de_Aguiar_Barros.ipynb\" target=\"_parent\"><img src=\"https://colab.research.google.com/assets/colab-badge.svg\" alt=\"Open In Colab\"/></a>"
      ]
    },
    {
      "cell_type": "code",
      "execution_count": 4,
      "metadata": {
        "id": "3hluQFugyadq",
        "colab": {
          "base_uri": "https://localhost:8080/",
          "height": 1000
        },
        "outputId": "e7f0d93a-93cf-4354-dc34-73b99d0d5604"
      },
      "outputs": [
        {
          "output_type": "stream",
          "name": "stdout",
          "text": [
            "------------------------- LETRA A :\n",
            "   Year  WHO region                Country Beverage Types  Display Value\n",
            "0  1986         NaN               viet nam           wine              0\n",
            "1  1986         NaN                uruguay          other              0\n",
            "2  1985         NaN           cte d'ivoire           wine              1\n",
            "3  1986         NaN               colombia           beer              4\n",
            "4  1987         NaN  saint kitts and nevis           beer              1\n",
            "\n",
            "------------------------- LETRA B :\n",
            "0\n",
            "\n",
            "------------------------- LETRA D :\n",
            "Média dos valores: 0.83\n",
            "Moda dos valores: 0    0\n",
            "Name: Display Value, dtype: int64\n",
            "Mediana dos valores: 0.0\n",
            "Estatísticas descritivas dos valores:\n",
            "count    100.000000\n",
            "mean       0.830000\n",
            "std        1.511271\n",
            "min        0.000000\n",
            "25%        0.000000\n",
            "50%        0.000000\n",
            "75%        1.000000\n",
            "max        7.000000\n",
            "Name: Display Value, dtype: float64\n"
          ]
        },
        {
          "output_type": "display_data",
          "data": {
            "text/plain": [
              "<Figure size 640x480 with 1 Axes>"
            ],
            "image/png": "[encoded data removed]"
          },
          "metadata": {}
        },
        {
          "output_type": "stream",
          "name": "stdout",
          "text": [
            "\n",
            "------------------------- LETRA E - 1 :\n",
            "Coluna de bebidas do ano de 1985:\n",
            "2        wine\n",
            "7     spirits\n",
            "12       beer\n",
            "14    spirits\n",
            "24      other\n",
            "26       wine\n",
            "33      other\n",
            "35    spirits\n",
            "44      other\n",
            "50      other\n",
            "63      other\n",
            "71      other\n",
            "76       beer\n",
            "77    spirits\n",
            "80      other\n",
            "81       wine\n",
            "85       wine\n",
            "94    spirits\n",
            "96       wine\n",
            "99       wine\n",
            "Name: Beverage Types, dtype: object\n",
            "\n",
            "------------------------- LETRA E - 2 :\n",
            "Regiões com valores acima de 4:\n",
            "[]\n"
          ]
        }
      ],
      "source": [
        "import pandas as pd\n",
        "import matplotlib.pyplot as plt\n",
        "\n",
        "\n",
        "df = pd.read_csv('/content/world_alcohol.csv')\n",
        "\n",
        "\n",
        "# Tratando os dados\n",
        "for coluna in df.columns:\n",
        "    if df[coluna].dtype == object:\n",
        "        df[coluna] = df[coluna].str.lower()\n",
        "    elif pd.api.types.is_numeric_dtype(df[coluna]):\n",
        "        df[coluna] = pd.to_numeric(df[coluna], errors='coerce')\n",
        "        df[coluna] = df[coluna].fillna(0).astype(int)\n",
        "\n",
        "\n",
        "df['WHO region'] = pd.to_numeric(df['WHO region'], errors='coerce')\n",
        "\n",
        "\n",
        "df.head()\n",
        "\n",
        "\n",
        "# LETRA A #\n",
        "tipo_bebidas = df.groupby('Beverage Types')\n",
        "print(\"------------------------- LETRA A :\")\n",
        "print(df.head())\n",
        "\n",
        "\n",
        "# LETRA B #\n",
        "regiao_ano = df.groupby(['WHO region', 'Year']).size()\n",
        "print(\"\\n------------------------- LETRA B :\")\n",
        "print(regiao_ano.size)\n",
        "\n",
        "\n",
        "# LETRA C #\n",
        "contagem_regioes = df['WHO region'].value_counts()\n",
        "contagem_paises = df['Country'].value_counts()\n",
        "soma_valores_bebida = df.groupby('Beverage Types')['Display Value'].sum()\n",
        "\n",
        "\n",
        "# LETRA D #\n",
        "media_valores = df['Display Value'].mean()\n",
        "moda_valores = df['Display Value'].mode()\n",
        "mediana_valores = df['Display Value'].median()\n",
        "estatisticas_descritivas = df['Display Value'].describe()\n",
        "\n",
        "\n",
        "print(\"\\n------------------------- LETRA D :\")\n",
        "print(\"Média dos valores:\", media_valores)\n",
        "print(\"Moda dos valores:\", moda_valores)\n",
        "print(\"Mediana dos valores:\", mediana_valores)\n",
        "print(\"Estatísticas descritivas dos valores:\")\n",
        "print(estatisticas_descritivas)\n",
        "\n",
        "\n",
        "df.groupby('Beverage Types')['Display Value'].mean().plot.bar()\n",
        "plt.xlabel('Beverage Types')\n",
        "plt.ylabel('Display Value')\n",
        "plt.title('Comparação dos Valores por Tipo de Bebida')\n",
        "plt.show()\n",
        "\n",
        "\n",
        "# LETRA E - 1 #\n",
        "bebidas_1985 = df[df['Year'] == 1985]['Beverage Types']\n",
        "print(\"\\n------------------------- LETRA E - 1 :\")\n",
        "print(\"Coluna de bebidas do ano de 1985:\")\n",
        "print(bebidas_1985)\n",
        "\n",
        "\n",
        "# LETRA E - 2 #\n",
        "regioes_acima_de_4 = df[df['WHO region'] > 4]['WHO region']\n",
        "print(\"\\n------------------------- LETRA E - 2 :\")\n",
        "print(\"Regiões com valores acima de 4:\")\n",
        "print(regioes_acima_de_4.values)\n"
      ]
    },
    {
      "cell_type": "code",
      "source": [
        "from google.colab import drive\n",
        "drive.mount('/content/drive')"
      ],
      "metadata": {
        "id": "BgDj3VqhdQt9"
      },
      "execution_count": null,
      "outputs": []
    },
    {
      "cell_type": "code",
      "source": [
        "\n"
      ],
      "metadata": {
        "id": "SxoPoIQz0tud"
      },
      "execution_count": null,
      "outputs": []
    }
  ]
}